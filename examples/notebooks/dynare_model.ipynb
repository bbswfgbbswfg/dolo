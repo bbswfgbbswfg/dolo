{
 "cells": [
  {
   "cell_type": "markdown",
   "metadata": {},
   "source": [
    "First we import all relevant dolo functions"
   ]
  },
  {
   "cell_type": "code",
   "execution_count": 1,
   "metadata": {
    "collapsed": false
   },
   "outputs": [],
   "source": [
    "from dolo import *\n",
    "from dolo.algos.dynare import *"
   ]
  },
  {
   "cell_type": "markdown",
   "metadata": {},
   "source": [
    "# Writing the model"
   ]
  },
  {
   "cell_type": "markdown",
   "metadata": {},
   "source": [
    "Dolo uses the open YAML format (http://www.yaml.org/) to store informations about the model.\n",
    "\n",
    "The model definition is supposed to be edited using an external text editor. For windows users, it is adviced to download one, for instance `notepad++`.\n",
    "\n",
    "A model consists in three parts.\n",
    "\n",
    "- a `declarations` section. All symbols used in the model equations or in the calibration must be defined here. For statefree models, three types of symbols are recognized:\n",
    "    - `variables`: any endogeneous variables to be defined by the model. These are symbols have a time subscripts in the model.\n",
    "    - `shocks`: the random innovations. They are assumed to be normally distributed with covariance matrix specified in the calibration section\n",
    "    - `parameters`: scalar values. Parameters can depend upon each other.\n",
    "\n",
    "- an `equations` section. This part contains a list of equations written in a naive way with the following timing convention (the same as Dynare):\n",
    "    - $v_t$ is written `v`, $v_{t-1}$ is written `v(-1)` and $v_{t+1}$ is written v(1)\n",
    "    - all equations are implicitly surrounded by $E_t \\left( \\right)$.\n",
    "\n",
    "- a `calibration` section with:\n",
    "    - values for parameters\n",
    "    - values for steady_state\n",
    "    - the covariance matrix of random shocks\n",
    "\n",
    "The example below is contained in the `dolo/examples/yaml_files` subdirectory. We need to make it the current directory.\n"
   ]
  },
  {
   "cell_type": "code",
   "execution_count": 2,
   "metadata": {
    "collapsed": false
   },
   "outputs": [],
   "source": [
    "filename =  'https://raw.githubusercontent.com/EconForge/dolo/master/examples/models/rbc_dynare.yaml'"
   ]
  },
  {
   "cell_type": "code",
   "execution_count": 3,
   "metadata": {
    "collapsed": false
   },
   "outputs": [
    {
     "data": {
      "text/html": [
       "<style>\n",
       "    .source .hll { background-color: #ffffcc }\n",
       ".source  { background: #f8f8f8; }\n",
       ".source .c { color: #408080; font-style: italic } /* Comment */\n",
       ".source .err { border: 1px solid #FF0000 } /* Error */\n",
       ".source .k { color: #008000; font-weight: bold } /* Keyword */\n",
       ".source .o { color: #666666 } /* Operator */\n",
       ".source .cm { color: #408080; font-style: italic } /* Comment.Multiline */\n",
       ".source .cp { color: #BC7A00 } /* Comment.Preproc */\n",
       ".source .c1 { color: #408080; font-style: italic } /* Comment.Single */\n",
       ".source .cs { color: #408080; font-style: italic } /* Comment.Special */\n",
       ".source .gd { color: #A00000 } /* Generic.Deleted */\n",
       ".source .ge { font-style: italic } /* Generic.Emph */\n",
       ".source .gr { color: #FF0000 } /* Generic.Error */\n",
       ".source .gh { color: #000080; font-weight: bold } /* Generic.Heading */\n",
       ".source .gi { color: #00A000 } /* Generic.Inserted */\n",
       ".source .go { color: #888888 } /* Generic.Output */\n",
       ".source .gp { color: #000080; font-weight: bold } /* Generic.Prompt */\n",
       ".source .gs { font-weight: bold } /* Generic.Strong */\n",
       ".source .gu { color: #800080; font-weight: bold } /* Generic.Subheading */\n",
       ".source .gt { color: #0044DD } /* Generic.Traceback */\n",
       ".source .kc { color: #008000; font-weight: bold } /* Keyword.Constant */\n",
       ".source .kd { color: #008000; font-weight: bold } /* Keyword.Declaration */\n",
       ".source .kn { color: #008000; font-weight: bold } /* Keyword.Namespace */\n",
       ".source .kp { color: #008000 } /* Keyword.Pseudo */\n",
       ".source .kr { color: #008000; font-weight: bold } /* Keyword.Reserved */\n",
       ".source .kt { color: #B00040 } /* Keyword.Type */\n",
       ".source .m { color: #666666 } /* Literal.Number */\n",
       ".source .s { color: #BA2121 } /* Literal.String */\n",
       ".source .na { color: #7D9029 } /* Name.Attribute */\n",
       ".source .nb { color: #008000 } /* Name.Builtin */\n",
       ".source .nc { color: #0000FF; font-weight: bold } /* Name.Class */\n",
       ".source .no { color: #880000 } /* Name.Constant */\n",
       ".source .nd { color: #AA22FF } /* Name.Decorator */\n",
       ".source .ni { color: #999999; font-weight: bold } /* Name.Entity */\n",
       ".source .ne { color: #D2413A; font-weight: bold } /* Name.Exception */\n",
       ".source .nf { color: #0000FF } /* Name.Function */\n",
       ".source .nl { color: #A0A000 } /* Name.Label */\n",
       ".source .nn { color: #0000FF; font-weight: bold } /* Name.Namespace */\n",
       ".source .nt { color: #008000; font-weight: bold } /* Name.Tag */\n",
       ".source .nv { color: #19177C } /* Name.Variable */\n",
       ".source .ow { color: #AA22FF; font-weight: bold } /* Operator.Word */\n",
       ".source .w { color: #bbbbbb } /* Text.Whitespace */\n",
       ".source .mb { color: #666666 } /* Literal.Number.Bin */\n",
       ".source .mf { color: #666666 } /* Literal.Number.Float */\n",
       ".source .mh { color: #666666 } /* Literal.Number.Hex */\n",
       ".source .mi { color: #666666 } /* Literal.Number.Integer */\n",
       ".source .mo { color: #666666 } /* Literal.Number.Oct */\n",
       ".source .sb { color: #BA2121 } /* Literal.String.Backtick */\n",
       ".source .sc { color: #BA2121 } /* Literal.String.Char */\n",
       ".source .sd { color: #BA2121; font-style: italic } /* Literal.String.Doc */\n",
       ".source .s2 { color: #BA2121 } /* Literal.String.Double */\n",
       ".source .se { color: #BB6622; font-weight: bold } /* Literal.String.Escape */\n",
       ".source .sh { color: #BA2121 } /* Literal.String.Heredoc */\n",
       ".source .si { color: #BB6688; font-weight: bold } /* Literal.String.Interpol */\n",
       ".source .sx { color: #008000 } /* Literal.String.Other */\n",
       ".source .sr { color: #BB6688 } /* Literal.String.Regex */\n",
       ".source .s1 { color: #BA2121 } /* Literal.String.Single */\n",
       ".source .ss { color: #19177C } /* Literal.String.Symbol */\n",
       ".source .bp { color: #008000 } /* Name.Builtin.Pseudo */\n",
       ".source .vc { color: #19177C } /* Name.Variable.Class */\n",
       ".source .vg { color: #19177C } /* Name.Variable.Global */\n",
       ".source .vi { color: #19177C } /* Name.Variable.Instance */\n",
       ".source .il { color: #666666 } /* Literal.Number.Integer.Long */\n",
       "    </style>\n",
       "    <table class=\"sourcetable\"><tr><td class=\"linenos\"><div class=\"linenodiv\"><pre> 1\n",
       " 2\n",
       " 3\n",
       " 4\n",
       " 5\n",
       " 6\n",
       " 7\n",
       " 8\n",
       " 9\n",
       "10\n",
       "11\n",
       "12\n",
       "13\n",
       "14\n",
       "15\n",
       "16\n",
       "17\n",
       "18\n",
       "19\n",
       "20\n",
       "21\n",
       "22\n",
       "23\n",
       "24\n",
       "25\n",
       "26\n",
       "27\n",
       "28\n",
       "29\n",
       "30\n",
       "31\n",
       "32\n",
       "33\n",
       "34\n",
       "35\n",
       "36\n",
       "37\n",
       "38\n",
       "39\n",
       "40\n",
       "41</pre></div></td><td class=\"code\"><div class=\"source\"><pre><span class=\"l-Scalar-Plain\">symbols</span><span class=\"p-Indicator\">:</span>\n",
       "\n",
       "   <span class=\"l-Scalar-Plain\">variables</span><span class=\"p-Indicator\">:</span>  <span class=\"p-Indicator\">[</span><span class=\"nv\">z</span><span class=\"p-Indicator\">,</span> <span class=\"nv\">k</span><span class=\"p-Indicator\">,</span> <span class=\"nv\">i</span><span class=\"p-Indicator\">,</span> <span class=\"nv\">n</span><span class=\"p-Indicator\">,</span> <span class=\"nv\">c</span><span class=\"p-Indicator\">,</span> <span class=\"nv\">rk</span><span class=\"p-Indicator\">,</span> <span class=\"nv\">w</span><span class=\"p-Indicator\">]</span>\n",
       "   <span class=\"l-Scalar-Plain\">shocks</span><span class=\"p-Indicator\">:</span> <span class=\"p-Indicator\">[</span><span class=\"nv\">e_z</span><span class=\"p-Indicator\">]</span>\n",
       "   <span class=\"l-Scalar-Plain\">parameters</span><span class=\"p-Indicator\">:</span> <span class=\"p-Indicator\">[</span><span class=\"nv\">beta</span><span class=\"p-Indicator\">,</span> <span class=\"nv\">sigma</span><span class=\"p-Indicator\">,</span> <span class=\"nv\">eta</span><span class=\"p-Indicator\">,</span> <span class=\"nv\">chi</span><span class=\"p-Indicator\">,</span> <span class=\"nv\">delta</span><span class=\"p-Indicator\">,</span> <span class=\"nv\">alpha</span><span class=\"p-Indicator\">,</span> <span class=\"nv\">rho</span><span class=\"p-Indicator\">,</span> <span class=\"nv\">zbar</span> <span class=\"p-Indicator\">]</span>\n",
       "\n",
       "<span class=\"l-Scalar-Plain\">equations</span><span class=\"p-Indicator\">:</span>\n",
       "\n",
       "   <span class=\"p-Indicator\">-</span> <span class=\"l-Scalar-Plain\">1 = beta*(c/c(1))^(sigma)*(1-delta+rk(1))</span>\n",
       "   <span class=\"p-Indicator\">-</span> <span class=\"l-Scalar-Plain\">w - chi*n^eta*c^sigma</span>\n",
       "   <span class=\"p-Indicator\">-</span> <span class=\"l-Scalar-Plain\">z = (1-rho)*zbar + rho*z(-1) + e_z</span>\n",
       "   <span class=\"p-Indicator\">-</span> <span class=\"l-Scalar-Plain\">k = (1-delta)*k(-1) + i</span>\n",
       "   <span class=\"p-Indicator\">-</span> <span class=\"l-Scalar-Plain\">c = z*k(-1)^alpha*n^(1-alpha) - i</span>\n",
       "   <span class=\"p-Indicator\">-</span> <span class=\"l-Scalar-Plain\">rk = alpha*z*(n/k(-1))^(1-alpha)</span>\n",
       "   <span class=\"p-Indicator\">-</span> <span class=\"l-Scalar-Plain\">w = (1-alpha)*z*(k(-1)/n)^(alpha)</span>\n",
       "\n",
       "<span class=\"l-Scalar-Plain\">calibration</span><span class=\"p-Indicator\">:</span>\n",
       "\n",
       "\n",
       "      <span class=\"l-Scalar-Plain\">beta</span> <span class=\"p-Indicator\">:</span> <span class=\"l-Scalar-Plain\">0.99</span>\n",
       "      <span class=\"l-Scalar-Plain\">phi</span><span class=\"p-Indicator\">:</span> <span class=\"l-Scalar-Plain\">1</span>\n",
       "      <span class=\"l-Scalar-Plain\">chi</span> <span class=\"p-Indicator\">:</span> <span class=\"l-Scalar-Plain\">w/c^sigma/n^eta</span>\n",
       "      <span class=\"l-Scalar-Plain\">delta</span> <span class=\"p-Indicator\">:</span> <span class=\"l-Scalar-Plain\">0.025</span>\n",
       "      <span class=\"l-Scalar-Plain\">alpha</span> <span class=\"p-Indicator\">:</span> <span class=\"l-Scalar-Plain\">0.33</span>\n",
       "      <span class=\"l-Scalar-Plain\">rho</span> <span class=\"p-Indicator\">:</span> <span class=\"l-Scalar-Plain\">0.8</span>\n",
       "      <span class=\"l-Scalar-Plain\">sigma</span><span class=\"p-Indicator\">:</span> <span class=\"l-Scalar-Plain\">1</span>\n",
       "      <span class=\"l-Scalar-Plain\">eta</span><span class=\"p-Indicator\">:</span> <span class=\"l-Scalar-Plain\">1</span>\n",
       "      <span class=\"l-Scalar-Plain\">zbar</span><span class=\"p-Indicator\">:</span> <span class=\"l-Scalar-Plain\">1</span>\n",
       "\n",
       "      <span class=\"l-Scalar-Plain\">z</span><span class=\"p-Indicator\">:</span> <span class=\"l-Scalar-Plain\">zbar</span>\n",
       "      <span class=\"l-Scalar-Plain\">rk</span><span class=\"p-Indicator\">:</span> <span class=\"l-Scalar-Plain\">1/beta-1+delta</span>\n",
       "      <span class=\"l-Scalar-Plain\">w</span><span class=\"p-Indicator\">:</span> <span class=\"l-Scalar-Plain\">(1-alpha)*z*(k/n)^(alpha)</span>\n",
       "      <span class=\"l-Scalar-Plain\">n</span><span class=\"p-Indicator\">:</span> <span class=\"l-Scalar-Plain\">0.33</span>\n",
       "      <span class=\"l-Scalar-Plain\">k</span><span class=\"p-Indicator\">:</span> <span class=\"l-Scalar-Plain\">n/(rk/alpha)^(1/(1-alpha))</span>\n",
       "      <span class=\"l-Scalar-Plain\">i</span><span class=\"p-Indicator\">:</span> <span class=\"l-Scalar-Plain\">delta*k</span>\n",
       "      <span class=\"l-Scalar-Plain\">c</span><span class=\"p-Indicator\">:</span> <span class=\"l-Scalar-Plain\">z*k^alpha*n^(1-alpha) - i</span>\n",
       "\n",
       "\n",
       "<span class=\"l-Scalar-Plain\">covariances</span><span class=\"p-Indicator\">:</span>\n",
       "\n",
       "  <span class=\"p-Indicator\">[</span> <span class=\"p-Indicator\">[</span> <span class=\"nv\">0.0015</span> <span class=\"p-Indicator\">]</span> <span class=\"p-Indicator\">]</span>\n",
       "</pre></div>\n",
       "</td></tr></table>\n",
       "    "
      ],
      "text/plain": [
       "<IPython.core.display.HTML object>"
      ]
     },
     "execution_count": 3,
     "metadata": {},
     "output_type": "execute_result"
    }
   ],
   "source": [
    "pcat(filename)"
   ]
  },
  {
   "cell_type": "markdown",
   "metadata": {},
   "source": [
    "A comment about the calibration: here we use the fact that parameters values can be defined as a function of the steady-state (and vice-versa). It is very practical for the RBC model since we can calibrate the steady-state amount of labour instead of a preference parameter, that doesn't affect the solution anyway."
   ]
  },
  {
   "cell_type": "markdown",
   "metadata": {},
   "source": [
    "# Importing the model"
   ]
  },
  {
   "cell_type": "markdown",
   "metadata": {},
   "source": [
    "We now use dolo to import the model and check whether it is well specifie. Usually, there are several iterations at this stage, since we all make a lot of mistakes when writing the model file."
   ]
  },
  {
   "cell_type": "markdown",
   "metadata": {},
   "source": [
    "Then we import the model in a `model` variable and display it"
   ]
  },
  {
   "cell_type": "code",
   "execution_count": 15,
   "metadata": {
    "collapsed": false
   },
   "outputs": [
    {
     "data": {
      "text/plain": [
       "<class dolo.compiler.model_dynare.DynareModel at 0x7fe7761760b8>"
      ]
     },
     "execution_count": 15,
     "metadata": {},
     "output_type": "execute_result"
    }
   ],
   "source": [
    "model.__class__"
   ]
  },
  {
   "cell_type": "code",
   "execution_count": 14,
   "metadata": {
    "collapsed": false
   },
   "outputs": [
    {
     "name": "stdout",
     "output_type": "stream",
     "text": [
      "Model type detected as dynare\n",
      "Missing model name. Set as 'anonymous'\n"
     ]
    },
    {
     "ename": "AttributeError",
     "evalue": "'list' object has no attribute 'iteritems'",
     "output_type": "error",
     "traceback": [
      "\u001b[1;31m---------------------------------------------------------------------------\u001b[0m",
      "\u001b[1;31mAttributeError\u001b[0m                            Traceback (most recent call last)",
      "\u001b[1;32m/home/pablo/Source/ipython/IPython/core/formatters.pyc\u001b[0m in \u001b[0;36m__call__\u001b[1;34m(self, obj)\u001b[0m\n\u001b[0;32m    693\u001b[0m                 \u001b[0mtype_pprinters\u001b[0m\u001b[1;33m=\u001b[0m\u001b[0mself\u001b[0m\u001b[1;33m.\u001b[0m\u001b[0mtype_printers\u001b[0m\u001b[1;33m,\u001b[0m\u001b[1;33m\u001b[0m\u001b[0m\n\u001b[0;32m    694\u001b[0m                 deferred_pprinters=self.deferred_printers)\n\u001b[1;32m--> 695\u001b[1;33m             \u001b[0mprinter\u001b[0m\u001b[1;33m.\u001b[0m\u001b[0mpretty\u001b[0m\u001b[1;33m(\u001b[0m\u001b[0mobj\u001b[0m\u001b[1;33m)\u001b[0m\u001b[1;33m\u001b[0m\u001b[0m\n\u001b[0m\u001b[0;32m    696\u001b[0m             \u001b[0mprinter\u001b[0m\u001b[1;33m.\u001b[0m\u001b[0mflush\u001b[0m\u001b[1;33m(\u001b[0m\u001b[1;33m)\u001b[0m\u001b[1;33m\u001b[0m\u001b[0m\n\u001b[0;32m    697\u001b[0m             \u001b[1;32mreturn\u001b[0m \u001b[0mstream\u001b[0m\u001b[1;33m.\u001b[0m\u001b[0mgetvalue\u001b[0m\u001b[1;33m(\u001b[0m\u001b[1;33m)\u001b[0m\u001b[1;33m\u001b[0m\u001b[0m\n",
      "\u001b[1;32m/home/pablo/Source/ipython/IPython/lib/pretty.pyc\u001b[0m in \u001b[0;36mpretty\u001b[1;34m(self, obj)\u001b[0m\n\u001b[0;32m    399\u001b[0m                             \u001b[1;32mif\u001b[0m \u001b[0mcallable\u001b[0m\u001b[1;33m(\u001b[0m\u001b[0mmeth\u001b[0m\u001b[1;33m)\u001b[0m\u001b[1;33m:\u001b[0m\u001b[1;33m\u001b[0m\u001b[0m\n\u001b[0;32m    400\u001b[0m                                 \u001b[1;32mreturn\u001b[0m \u001b[0mmeth\u001b[0m\u001b[1;33m(\u001b[0m\u001b[0mobj\u001b[0m\u001b[1;33m,\u001b[0m \u001b[0mself\u001b[0m\u001b[1;33m,\u001b[0m \u001b[0mcycle\u001b[0m\u001b[1;33m)\u001b[0m\u001b[1;33m\u001b[0m\u001b[0m\n\u001b[1;32m--> 401\u001b[1;33m             \u001b[1;32mreturn\u001b[0m \u001b[0m_default_pprint\u001b[0m\u001b[1;33m(\u001b[0m\u001b[0mobj\u001b[0m\u001b[1;33m,\u001b[0m \u001b[0mself\u001b[0m\u001b[1;33m,\u001b[0m \u001b[0mcycle\u001b[0m\u001b[1;33m)\u001b[0m\u001b[1;33m\u001b[0m\u001b[0m\n\u001b[0m\u001b[0;32m    402\u001b[0m         \u001b[1;32mfinally\u001b[0m\u001b[1;33m:\u001b[0m\u001b[1;33m\u001b[0m\u001b[0m\n\u001b[0;32m    403\u001b[0m             \u001b[0mself\u001b[0m\u001b[1;33m.\u001b[0m\u001b[0mend_group\u001b[0m\u001b[1;33m(\u001b[0m\u001b[1;33m)\u001b[0m\u001b[1;33m\u001b[0m\u001b[0m\n",
      "\u001b[1;32m/home/pablo/Source/ipython/IPython/lib/pretty.pyc\u001b[0m in \u001b[0;36m_default_pprint\u001b[1;34m(obj, p, cycle)\u001b[0m\n\u001b[0;32m    519\u001b[0m     \u001b[1;32mif\u001b[0m \u001b[0m_safe_getattr\u001b[0m\u001b[1;33m(\u001b[0m\u001b[0mklass\u001b[0m\u001b[1;33m,\u001b[0m \u001b[1;34m'__repr__'\u001b[0m\u001b[1;33m,\u001b[0m \u001b[0mNone\u001b[0m\u001b[1;33m)\u001b[0m \u001b[1;32mnot\u001b[0m \u001b[1;32min\u001b[0m \u001b[0m_baseclass_reprs\u001b[0m\u001b[1;33m:\u001b[0m\u001b[1;33m\u001b[0m\u001b[0m\n\u001b[0;32m    520\u001b[0m         \u001b[1;31m# A user-provided repr. Find newlines and replace them with p.break_()\u001b[0m\u001b[1;33m\u001b[0m\u001b[1;33m\u001b[0m\u001b[0m\n\u001b[1;32m--> 521\u001b[1;33m         \u001b[0m_repr_pprint\u001b[0m\u001b[1;33m(\u001b[0m\u001b[0mobj\u001b[0m\u001b[1;33m,\u001b[0m \u001b[0mp\u001b[0m\u001b[1;33m,\u001b[0m \u001b[0mcycle\u001b[0m\u001b[1;33m)\u001b[0m\u001b[1;33m\u001b[0m\u001b[0m\n\u001b[0m\u001b[0;32m    522\u001b[0m         \u001b[1;32mreturn\u001b[0m\u001b[1;33m\u001b[0m\u001b[0m\n\u001b[0;32m    523\u001b[0m     \u001b[0mp\u001b[0m\u001b[1;33m.\u001b[0m\u001b[0mbegin_group\u001b[0m\u001b[1;33m(\u001b[0m\u001b[1;36m1\u001b[0m\u001b[1;33m,\u001b[0m \u001b[1;34m'<'\u001b[0m\u001b[1;33m)\u001b[0m\u001b[1;33m\u001b[0m\u001b[0m\n",
      "\u001b[1;32m/home/pablo/Source/ipython/IPython/lib/pretty.pyc\u001b[0m in \u001b[0;36m_repr_pprint\u001b[1;34m(obj, p, cycle)\u001b[0m\n\u001b[0;32m    701\u001b[0m     \u001b[1;34m\"\"\"A pprint that just redirects to the normal repr function.\"\"\"\u001b[0m\u001b[1;33m\u001b[0m\u001b[0m\n\u001b[0;32m    702\u001b[0m     \u001b[1;31m# Find newlines and replace them with p.break_()\u001b[0m\u001b[1;33m\u001b[0m\u001b[1;33m\u001b[0m\u001b[0m\n\u001b[1;32m--> 703\u001b[1;33m     \u001b[0moutput\u001b[0m \u001b[1;33m=\u001b[0m \u001b[0mrepr\u001b[0m\u001b[1;33m(\u001b[0m\u001b[0mobj\u001b[0m\u001b[1;33m)\u001b[0m\u001b[1;33m\u001b[0m\u001b[0m\n\u001b[0m\u001b[0;32m    704\u001b[0m     \u001b[1;32mfor\u001b[0m \u001b[0midx\u001b[0m\u001b[1;33m,\u001b[0m\u001b[0moutput_line\u001b[0m \u001b[1;32min\u001b[0m \u001b[0menumerate\u001b[0m\u001b[1;33m(\u001b[0m\u001b[0moutput\u001b[0m\u001b[1;33m.\u001b[0m\u001b[0msplitlines\u001b[0m\u001b[1;33m(\u001b[0m\u001b[1;33m)\u001b[0m\u001b[1;33m)\u001b[0m\u001b[1;33m:\u001b[0m\u001b[1;33m\u001b[0m\u001b[0m\n\u001b[0;32m    705\u001b[0m         \u001b[1;32mif\u001b[0m \u001b[0midx\u001b[0m\u001b[1;33m:\u001b[0m\u001b[1;33m\u001b[0m\u001b[0m\n",
      "\u001b[1;32m/home/pablo/Programming/econforge/dolo/dolo/compiler/model_numeric.pyc\u001b[0m in \u001b[0;36m__repr__\u001b[1;34m(self)\u001b[0m\n\u001b[0;32m    135\u001b[0m \u001b[1;33m\u001b[0m\u001b[0m\n\u001b[0;32m    136\u001b[0m     \u001b[1;32mdef\u001b[0m \u001b[0m__repr__\u001b[0m\u001b[1;33m(\u001b[0m\u001b[0mself\u001b[0m\u001b[1;33m)\u001b[0m\u001b[1;33m:\u001b[0m\u001b[1;33m\u001b[0m\u001b[0m\n\u001b[1;32m--> 137\u001b[1;33m         \u001b[1;32mreturn\u001b[0m \u001b[0mself\u001b[0m\u001b[1;33m.\u001b[0m\u001b[0m__str__\u001b[0m\u001b[1;33m(\u001b[0m\u001b[1;33m)\u001b[0m\u001b[1;33m\u001b[0m\u001b[0m\n\u001b[0m\u001b[0;32m    138\u001b[0m \u001b[1;33m\u001b[0m\u001b[0m\n\u001b[0;32m    139\u001b[0m     \u001b[1;33m@\u001b[0m\u001b[0mproperty\u001b[0m\u001b[1;33m\u001b[0m\u001b[0m\n",
      "\u001b[1;32m/home/pablo/Programming/econforge/dolo/dolo/compiler/model_numeric.pyc\u001b[0m in \u001b[0;36m__str__\u001b[1;34m(self)\u001b[0m\n\u001b[0;32m    109\u001b[0m         \u001b[0mres\u001b[0m \u001b[1;33m=\u001b[0m \u001b[0mself\u001b[0m\u001b[1;33m.\u001b[0m\u001b[0mresiduals\u001b[0m\u001b[1;33m(\u001b[0m\u001b[1;33m)\u001b[0m\u001b[1;33m\u001b[0m\u001b[0m\n\u001b[0;32m    110\u001b[0m \u001b[1;33m\u001b[0m\u001b[0m\n\u001b[1;32m--> 111\u001b[1;33m         \u001b[1;32mfor\u001b[0m \u001b[0meqgroup\u001b[0m\u001b[1;33m,\u001b[0m \u001b[0meqlist\u001b[0m \u001b[1;32min\u001b[0m \u001b[0mself\u001b[0m\u001b[1;33m.\u001b[0m\u001b[0msymbolic\u001b[0m\u001b[1;33m.\u001b[0m\u001b[0mequations\u001b[0m\u001b[1;33m.\u001b[0m\u001b[0miteritems\u001b[0m\u001b[1;33m(\u001b[0m\u001b[1;33m)\u001b[0m\u001b[1;33m:\u001b[0m\u001b[1;33m\u001b[0m\u001b[0m\n\u001b[0m\u001b[0;32m    112\u001b[0m             \u001b[0mss\u001b[0m \u001b[1;33m+=\u001b[0m \u001b[1;34mu\"    {}\\n\"\u001b[0m\u001b[1;33m.\u001b[0m\u001b[0mformat\u001b[0m\u001b[1;33m(\u001b[0m\u001b[0meqgroup\u001b[0m\u001b[1;33m)\u001b[0m\u001b[1;33m\u001b[0m\u001b[0m\n\u001b[0;32m    113\u001b[0m             \u001b[1;32mfor\u001b[0m \u001b[0mi\u001b[0m\u001b[1;33m,\u001b[0m \u001b[0meq\u001b[0m \u001b[1;32min\u001b[0m \u001b[0menumerate\u001b[0m\u001b[1;33m(\u001b[0m\u001b[0meqlist\u001b[0m\u001b[1;33m)\u001b[0m\u001b[1;33m:\u001b[0m\u001b[1;33m\u001b[0m\u001b[0m\n",
      "\u001b[1;31mAttributeError\u001b[0m: 'list' object has no attribute 'iteritems'"
     ]
    }
   ],
   "source": [
    "model = yaml_import(filename)\n",
    "display( model )"
   ]
  },
  {
   "cell_type": "markdown",
   "metadata": {},
   "source": [
    "In IPython, `display` produces a pretty representation. A text representation with the same information can be printed with the print function"
   ]
  },
  {
   "cell_type": "code",
   "execution_count": 10,
   "metadata": {
    "collapsed": false
   },
   "outputs": [
    {
     "ename": "AttributeError",
     "evalue": "'list' object has no attribute 'iteritems'",
     "output_type": "error",
     "traceback": [
      "\u001b[1;31m---------------------------------------------------------------------------\u001b[0m",
      "\u001b[1;31mAttributeError\u001b[0m                            Traceback (most recent call last)",
      "\u001b[1;32m<ipython-input-10-3553ab7a6ee6>\u001b[0m in \u001b[0;36m<module>\u001b[1;34m()\u001b[0m\n\u001b[1;32m----> 1\u001b[1;33m \u001b[1;32mprint\u001b[0m\u001b[1;33m(\u001b[0m\u001b[0mmodel\u001b[0m\u001b[1;33m)\u001b[0m\u001b[1;33m\u001b[0m\u001b[0m\n\u001b[0m",
      "\u001b[1;32m/home/pablo/Programming/econforge/dolo/dolo/compiler/model_numeric.pyc\u001b[0m in \u001b[0;36m__str__\u001b[1;34m(self)\u001b[0m\n\u001b[0;32m    109\u001b[0m         \u001b[0mres\u001b[0m \u001b[1;33m=\u001b[0m \u001b[0mself\u001b[0m\u001b[1;33m.\u001b[0m\u001b[0mresiduals\u001b[0m\u001b[1;33m(\u001b[0m\u001b[1;33m)\u001b[0m\u001b[1;33m\u001b[0m\u001b[0m\n\u001b[0;32m    110\u001b[0m \u001b[1;33m\u001b[0m\u001b[0m\n\u001b[1;32m--> 111\u001b[1;33m         \u001b[1;32mfor\u001b[0m \u001b[0meqgroup\u001b[0m\u001b[1;33m,\u001b[0m \u001b[0meqlist\u001b[0m \u001b[1;32min\u001b[0m \u001b[0mself\u001b[0m\u001b[1;33m.\u001b[0m\u001b[0msymbolic\u001b[0m\u001b[1;33m.\u001b[0m\u001b[0mequations\u001b[0m\u001b[1;33m.\u001b[0m\u001b[0miteritems\u001b[0m\u001b[1;33m(\u001b[0m\u001b[1;33m)\u001b[0m\u001b[1;33m:\u001b[0m\u001b[1;33m\u001b[0m\u001b[0m\n\u001b[0m\u001b[0;32m    112\u001b[0m             \u001b[0mss\u001b[0m \u001b[1;33m+=\u001b[0m \u001b[1;34mu\"    {}\\n\"\u001b[0m\u001b[1;33m.\u001b[0m\u001b[0mformat\u001b[0m\u001b[1;33m(\u001b[0m\u001b[0meqgroup\u001b[0m\u001b[1;33m)\u001b[0m\u001b[1;33m\u001b[0m\u001b[0m\n\u001b[0;32m    113\u001b[0m             \u001b[1;32mfor\u001b[0m \u001b[0mi\u001b[0m\u001b[1;33m,\u001b[0m \u001b[0meq\u001b[0m \u001b[1;32min\u001b[0m \u001b[0menumerate\u001b[0m\u001b[1;33m(\u001b[0m\u001b[0meqlist\u001b[0m\u001b[1;33m)\u001b[0m\u001b[1;33m:\u001b[0m\u001b[1;33m\u001b[0m\u001b[0m\n",
      "\u001b[1;31mAttributeError\u001b[0m: 'list' object has no attribute 'iteritems'"
     ]
    }
   ],
   "source": []
  },
  {
   "cell_type": "markdown",
   "metadata": {},
   "source": [
    "Note that each equation is associated with residuals. If the steady-state values are consistent with the calibration, these residuals should be 0.\n",
    "When, it is impossible to find a closed form solution for the steady-state, approximate values can be entered, but in general it is adviced to enter the exact values."
   ]
  },
  {
   "cell_type": "markdown",
   "metadata": {},
   "source": [
    "# Solving the model"
   ]
  },
  {
   "cell_type": "markdown",
   "metadata": {},
   "source": [
    "An Taylor expansion for the endogenous variables at the steady-state can be obtained with:"
   ]
  },
  {
   "cell_type": "code",
   "execution_count": 16,
   "metadata": {
    "collapsed": false
   },
   "outputs": [],
   "source": [
    "from dolo.algos.dynare.perturbations import solve_decision_rule\n",
    "dr = solve_decision_rule( model, order=1 )"
   ]
  },
  {
   "cell_type": "markdown",
   "metadata": {},
   "source": [
    "The approximated first order decision rule is an AR1 process:\n",
    "\n",
    "$$ \\hat{Y_t} = G_a \\hat{Y_{t-1}} + G_e \\epsilon_t$$\n",
    "\n",
    "where $\\hat{Y_t} = Y_t - \\overline{Y}$.\n",
    "\n",
    "- $Y_t$ is a vector of all endogenous variables, in the declaration order.\n",
    "- $\\epsilon_t$ is the vector of shocks, in the declaration order. They are distributed after $\\Sigma$, the covariance matrix\n",
    "- $G_a$ and $G_e$ are the first order coefficients.\n"
   ]
  },
  {
   "cell_type": "markdown",
   "metadata": {},
   "source": [
    "Let inspect object dr. It contains the following keys:"
   ]
  },
  {
   "cell_type": "code",
   "execution_count": 17,
   "metadata": {
    "collapsed": false
   },
   "outputs": [
    {
     "data": {
      "text/plain": [
       "['g_e', 'g_a', 'ys', 'ev', 'Sigma']"
      ]
     },
     "execution_count": 17,
     "metadata": {},
     "output_type": "execute_result"
    }
   ],
   "source": [
    "dr.keys()"
   ]
  },
  {
   "cell_type": "code",
   "execution_count": 18,
   "metadata": {
    "collapsed": false
   },
   "outputs": [
    {
     "data": {
      "text/plain": [
       "'variables order'"
      ]
     },
     "metadata": {},
     "output_type": "display_data"
    },
    {
     "data": {
      "text/plain": [
       "('z', 'k', 'i', 'n', 'c', 'rk', 'w')"
      ]
     },
     "metadata": {},
     "output_type": "display_data"
    },
    {
     "data": {
      "text/plain": [
       "'Covariance matrix'"
      ]
     },
     "metadata": {},
     "output_type": "display_data"
    },
    {
     "data": {
      "text/plain": [
       "array([[ 0.0015]])"
      ]
     },
     "metadata": {},
     "output_type": "display_data"
    },
    {
     "data": {
      "text/plain": [
       "'Steady-state values (ybar):'"
      ]
     },
     "metadata": {},
     "output_type": "display_data"
    },
    {
     "data": {
      "text/plain": [
       "array([ 1.        ,  9.35497829,  0.23387446,  0.33      ,  0.76118369,\n",
       "        0.03510101,  2.02026956])"
      ]
     },
     "metadata": {},
     "output_type": "display_data"
    },
    {
     "data": {
      "text/plain": [
       "'First order coefficients'"
      ]
     },
     "metadata": {},
     "output_type": "display_data"
    },
    {
     "data": {
      "text/plain": [
       "'g_a :'"
      ]
     },
     "metadata": {},
     "output_type": "display_data"
    },
    {
     "data": {
      "text/plain": [
       "array([[  8.00000000e-01,  -4.10752585e-18,   0.00000000e+00,\n",
       "          0.00000000e+00,   0.00000000e+00,   0.00000000e+00,\n",
       "          0.00000000e+00],\n",
       "       [  1.00214668e+00,   9.53146078e-01,   0.00000000e+00,\n",
       "          0.00000000e+00,   0.00000000e+00,   0.00000000e+00,\n",
       "          0.00000000e+00],\n",
       "       [  1.00214668e+00,  -2.18539224e-02,  -0.00000000e+00,\n",
       "         -0.00000000e+00,  -0.00000000e+00,  -0.00000000e+00,\n",
       "         -0.00000000e+00],\n",
       "       [  1.60187858e-01,  -5.91656944e-03,   0.00000000e+00,\n",
       "          0.00000000e+00,   0.00000000e+00,   0.00000000e+00,\n",
       "          0.00000000e+00],\n",
       "       [  1.17522492e-01,   4.50018673e-02,  -0.00000000e+00,\n",
       "         -0.00000000e+00,  -0.00000000e+00,  -0.00000000e+00,\n",
       "         -0.00000000e+00],\n",
       "       [  3.94967058e-02,  -2.93556943e-03,  -0.00000000e+00,\n",
       "         -0.00000000e+00,  -0.00000000e+00,  -0.00000000e+00,\n",
       "         -0.00000000e+00],\n",
       "       [  1.29259300e+00,   8.32187524e-02,  -0.00000000e+00,\n",
       "         -0.00000000e+00,  -0.00000000e+00,  -0.00000000e+00,\n",
       "         -0.00000000e+00]])"
      ]
     },
     "metadata": {},
     "output_type": "display_data"
    },
    {
     "data": {
      "text/plain": [
       "'g_e :'"
      ]
     },
     "metadata": {},
     "output_type": "display_data"
    },
    {
     "data": {
      "text/plain": [
       "array([[ 1.        ],\n",
       "       [ 1.25268335],\n",
       "       [ 1.25268335],\n",
       "       [ 0.20023482],\n",
       "       [ 0.14690312],\n",
       "       [ 0.04937088],\n",
       "       [ 1.61574125]])"
      ]
     },
     "metadata": {},
     "output_type": "display_data"
    }
   ],
   "source": [
    "display('variables order')\n",
    "display(model.variables)\n",
    "display('Covariance matrix')\n",
    "display(dr['Sigma'])  # covariance matrix\n",
    "display('Steady-state values (ybar):')  # covariance matrix\n",
    "display(dr['ys'])  # covariance matrix\n",
    "display('First order coefficients')\n",
    "display('g_a :')\n",
    "display(dr['g_a'])  # covariance matrix\n",
    "display('g_e :')\n",
    "display(dr['g_e'])  # covariance matrix\n"
   ]
  },
  {
   "cell_type": "markdown",
   "metadata": {},
   "source": [
    "## More information about the solution:"
   ]
  },
  {
   "cell_type": "markdown",
   "metadata": {},
   "source": [
    "The model can be represented in an abstract way as a function $f$, a vector of endogenous variables $y_t$ and shocks $\\epsilon_t$ satisfying:\n",
    "\n",
    "$$E_t \\left[ f \\left( a_{t+1}, a_t, a_{t-1}, \\epsilon_t \\right) \\right] = 0 $$\n",
    "\n",
    "The solution of this system is assumed to be in the form $a_t = g\\left( a_{t-1}, \\epsilon_t \\right)$\n",
    "\n",
    "The talyon expansion computes the derivatives of $g$ using a variant of the Implicit Function Theorem.\n",
    "\n",
    "It is easy to show that at the steady-state, $g_a$ is the solution of a second order matrix equation:\n",
    "\n",
    "$$A {X}^2 + B X + C = 0$$\n",
    "\n",
    "In general, such an equation admits several solutions (even in the scalar case). \n",
    "The Blanchard-Kahn conditions ensure that there one and only one converging solution, where the eigenvalues of X are all smaller than 1.\n",
    "\n"
   ]
  },
  {
   "cell_type": "code",
   "execution_count": 19,
   "metadata": {
    "collapsed": false
   },
   "outputs": [
    {
     "name": "stdout",
     "output_type": "stream",
     "text": [
      "[ 1.          9.35497829  0.23387446  0.33        0.76118369  0.03510101\n",
      "  2.02026956]\n"
     ]
    }
   ],
   "source": [
    "print(dr['ys']) # a vector of values at the steady-state"
   ]
  },
  {
   "cell_type": "code",
   "execution_count": 20,
   "metadata": {
    "collapsed": false
   },
   "outputs": [],
   "source": [
    "from matplotlib import pyplot\n",
    "%matplotlib inline\n",
    "from dolo.algos.dynare.simulations import simulate"
   ]
  },
  {
   "cell_type": "code",
   "execution_count": 21,
   "metadata": {
    "collapsed": false
   },
   "outputs": [
    {
     "data": {
      "text/plain": [
       "<matplotlib.text.Text at 0x7fe75bbde890>"
      ]
     },
     "execution_count": 21,
     "metadata": {},
     "output_type": "execute_result"
    },
    {
     "data": {
      "image/png": "[encoded data removed]",
      "text/plain": [
       "<matplotlib.figure.Figure at 0x7fe762a421d0>"
      ]
     },
     "metadata": {},
     "output_type": "display_data"
    }
   ],
   "source": [
    "sim = simulate( dr, n_exp=1 )\n",
    "pyplot.plot(sim['c'])\n",
    "pyplot.title('Consumption')"
   ]
  },
  {
   "cell_type": "markdown",
   "metadata": {},
   "source": [
    "# Change parameters at runtime"
   ]
  },
  {
   "cell_type": "code",
   "execution_count": 22,
   "metadata": {
    "collapsed": false
   },
   "outputs": [],
   "source": [
    "model.set_calibration({'beta':0.9})\n",
    "drr = solve_decision_rule(model)"
   ]
  },
  {
   "cell_type": "code",
   "execution_count": 23,
   "metadata": {
    "collapsed": false
   },
   "outputs": [
    {
     "data": {
      "text/plain": [
       "{'Sigma': array([[ 0.0015]]),\n",
       " 'ev': array([ 0.        ,  0.        ,  0.        ,  0.        ,  0.        ,\n",
       "         0.8       ,  0.95314608]),\n",
       " 'g_a': array([[  8.00000000e-01,  -4.10752585e-18,   0.00000000e+00,\n",
       "           0.00000000e+00,   0.00000000e+00,   0.00000000e+00,\n",
       "           0.00000000e+00],\n",
       "        [  1.00214668e+00,   9.53146078e-01,   0.00000000e+00,\n",
       "           0.00000000e+00,   0.00000000e+00,   0.00000000e+00,\n",
       "           0.00000000e+00],\n",
       "        [  1.00214668e+00,  -2.18539224e-02,  -0.00000000e+00,\n",
       "          -0.00000000e+00,  -0.00000000e+00,  -0.00000000e+00,\n",
       "          -0.00000000e+00],\n",
       "        [  1.60187858e-01,  -5.91656944e-03,   0.00000000e+00,\n",
       "           0.00000000e+00,   0.00000000e+00,   0.00000000e+00,\n",
       "           0.00000000e+00],\n",
       "        [  1.17522492e-01,   4.50018673e-02,  -0.00000000e+00,\n",
       "          -0.00000000e+00,  -0.00000000e+00,  -0.00000000e+00,\n",
       "          -0.00000000e+00],\n",
       "        [  3.94967058e-02,  -2.93556943e-03,  -0.00000000e+00,\n",
       "          -0.00000000e+00,  -0.00000000e+00,  -0.00000000e+00,\n",
       "          -0.00000000e+00],\n",
       "        [  1.29259300e+00,   8.32187524e-02,  -0.00000000e+00,\n",
       "          -0.00000000e+00,  -0.00000000e+00,  -0.00000000e+00,\n",
       "          -0.00000000e+00]]),\n",
       " 'g_e': array([[ 1.        ],\n",
       "        [ 1.25268335],\n",
       "        [ 1.25268335],\n",
       "        [ 0.20023482],\n",
       "        [ 0.14690312],\n",
       "        [ 0.04937088],\n",
       "        [ 1.61574125]]),\n",
       " 'ys': array([ 1.        ,  9.35497829,  0.23387446,  0.33      ,  0.76118369,\n",
       "         0.03510101,  2.02026956])}"
      ]
     },
     "execution_count": 23,
     "metadata": {},
     "output_type": "execute_result"
    }
   ],
   "source": [
    "drr"
   ]
  },
  {
   "cell_type": "code",
   "execution_count": 23,
   "metadata": {
    "collapsed": true
   },
   "outputs": [],
   "source": []
  },
  {
   "cell_type": "code",
   "execution_count": null,
   "metadata": {
    "collapsed": true
   },
   "outputs": [],
   "source": []
  }
 ],
 "metadata": {
  "kernelspec": {
   "display_name": "IPython (Python 2)",
   "name": "python2"
  },
  "language_info": {
   "codemirror_mode": {
    "name": "ipython",
    "version": 2
   },
   "file_extension": ".py",
   "mimetype": "text/x-python",
   "name": "python",
   "nbconvert_exporter": "python",
   "pygments_lexer": "ipython2",
   "version": "2.7.9"
  }
 },
 "nbformat": 4,
 "nbformat_minor": 0
}